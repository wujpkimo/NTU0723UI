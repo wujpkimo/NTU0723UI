{
 "cells": [
  {
   "cell_type": "code",
   "execution_count": 2,
   "id": "5ad1c777",
   "metadata": {},
   "outputs": [
    {
     "data": {
      "application/vnd.jupyter.widget-view+json": {
       "model_id": "23b1f57234334ce497daffb784b22b29",
       "version_major": 2,
       "version_minor": 0
      },
      "text/plain": [
       "interactive(children=(IntSlider(value=35, description='x', max=105, min=-35), Output()), _dom_classes=('widget…"
      ]
     },
     "metadata": {},
     "output_type": "display_data"
    }
   ],
   "source": [
    "import ipywidgets as widgets\n",
    "@widgets.interact\n",
    "def f(x=35):\n",
    "    print(x*'@')"
   ]
  },
  {
   "cell_type": "code",
   "execution_count": 4,
   "id": "d1c619a9",
   "metadata": {},
   "outputs": [
    {
     "name": "stdout",
     "output_type": "stream",
     "text": [
      "@@@@@\n"
     ]
    }
   ],
   "source": [
    "f(5)"
   ]
  },
  {
   "cell_type": "code",
   "execution_count": 13,
   "id": "06b7dcfc",
   "metadata": {},
   "outputs": [
    {
     "data": {
      "application/vnd.jupyter.widget-view+json": {
       "model_id": "e2e4cf957a60426a96dcd98eb97b0a31",
       "version_major": 2,
       "version_minor": 0
      },
      "text/plain": [
       "interactive(children=(IntSlider(value=5, description='freq', max=20), Dropdown(description='color', index=3, o…"
      ]
     },
     "metadata": {},
     "output_type": "display_data"
    }
   ],
   "source": [
    "%matplotlib notebook\n",
    "import numpy as np\n",
    "from matplotlib import pyplot as plt\n",
    "@widgets.interact_manual(freq=(0,20), color=['cyan','red','yellow','green','black'],lw=(2.0,8.0))\n",
    "def plot(freq=5.0,color='green',lw=1,grid=True):\n",
    "    t = np.linspace(.1, 1.0, 1000)\n",
    "    fig, ax = plt.subplots(1,1, figsize=(8,6))\n",
    "    ax.plot(t, np.cos(2*np.pi*freq*t)+np.log(freq*t),lw=lw,color=color)\n",
    "    ax.grid(grid)"
   ]
  },
  {
   "cell_type": "code",
   "execution_count": 17,
   "id": "23d11091",
   "metadata": {},
   "outputs": [
    {
     "data": {
      "application/vnd.jupyter.widget-view+json": {
       "model_id": "0f3368119eeb4f50a4ecd069d0deb8d6",
       "version_major": 2,
       "version_minor": 0
      },
      "text/plain": [
       "FloatSlider(value=3.8, max=10.0, min=1.0)"
      ]
     },
     "metadata": {},
     "output_type": "display_data"
    }
   ],
   "source": [
    "freq_slider = widgets.FloatSlider(value=3.8, min=1, max=10, step=0.1, descriptiopn='Volume:', readout_format='.2f')\n",
    "freq_slider"
   ]
  },
  {
   "cell_type": "code",
   "execution_count": 19,
   "id": "44a75c27",
   "metadata": {},
   "outputs": [
    {
     "data": {
      "application/vnd.jupyter.widget-view+json": {
       "model_id": "7eccd006300a410ca7cad2ed4d84940b",
       "version_major": 2,
       "version_minor": 0
      },
      "text/plain": [
       "FloatRangeSlider(value=(-6.0, 6.0), description='xlimit:', max=10.0, min=-10.0, readout_format='.1f')"
      ]
     },
     "metadata": {},
     "output_type": "display_data"
    }
   ],
   "source": [
    "range_slider = widgets.FloatRangeSlider(value=[-6,6], min=-10, max=10, step=.1, description='xlimit:', readout_format='.1f')\n",
    "range_slider"
   ]
  },
  {
   "cell_type": "code",
   "execution_count": 20,
   "id": "14d2c5dd",
   "metadata": {},
   "outputs": [
    {
     "data": {
      "application/vnd.jupyter.widget-view+json": {
       "model_id": "c58f591238134434a8b238e237e6c60b",
       "version_major": 2,
       "version_minor": 0
      },
      "text/plain": [
       "ToggleButton(value=True, button_style='info', description='Grid', icon='check')"
      ]
     },
     "metadata": {},
     "output_type": "display_data"
    }
   ],
   "source": [
    "grid_button = widgets.ToggleButton(icon='check', button_style='info', description=\"Grid\", value=True)\n",
    "grid_button"
   ]
  },
  {
   "cell_type": "code",
   "execution_count": 21,
   "id": "7e7b94b9",
   "metadata": {},
   "outputs": [
    {
     "data": {
      "application/vnd.jupyter.widget-view+json": {
       "model_id": "a223eaa8280a4cca9a85b538b8fe3ac5",
       "version_major": 2,
       "version_minor": 0
      },
      "text/plain": [
       "ToggleButtons(description='addon:', options=('sugar', 'honey', 'bubble'), value='sugar')"
      ]
     },
     "metadata": {},
     "output_type": "display_data"
    }
   ],
   "source": [
    "addon_buttons = widgets.ToggleButtons(options=['sugar','honey','bubble'], description='addon:')\n",
    "addon_buttons"
   ]
  },
  {
   "cell_type": "code",
   "execution_count": 23,
   "id": "c1119c74",
   "metadata": {},
   "outputs": [
    {
     "data": {
      "application/vnd.jupyter.widget-view+json": {
       "model_id": "ee723813122e45a4bf630aa2024556eb",
       "version_major": 2,
       "version_minor": 0
      },
      "text/plain": [
       "Dropdown(description='addon:', index=1, options=('sugar', 'honey', 'bubble'), value='honey')"
      ]
     },
     "metadata": {},
     "output_type": "display_data"
    }
   ],
   "source": [
    "dropdown1 = widgets.Dropdown(options=['sugar','honey','bubble'],value='honey',description='addon:', disabled=False)\n",
    "dropdown1"
   ]
  },
  {
   "cell_type": "code",
   "execution_count": 25,
   "id": "3e5703bc",
   "metadata": {},
   "outputs": [
    {
     "data": {
      "application/vnd.jupyter.widget-view+json": {
       "model_id": "127e7b852a2c40bf854913898a687c6b",
       "version_major": 2,
       "version_minor": 0
      },
      "text/plain": [
       "Dropdown(description='addon2:', index=2, options=(('sugar', 1), ('honey', 2), ('boble', 3)), value=3)"
      ]
     },
     "metadata": {},
     "output_type": "display_data"
    }
   ],
   "source": [
    "dropdown2 = widgets.Dropdown(options=[('sugar',1),('honey',2),('boble',3)],value=3,description='addon2:')\n",
    "dropdown2"
   ]
  },
  {
   "cell_type": "code",
   "execution_count": 27,
   "id": "18e546d9",
   "metadata": {},
   "outputs": [
    {
     "data": {
      "application/vnd.jupyter.widget-view+json": {
       "model_id": "8acbd80b53434592be4f762c1762ea8a",
       "version_major": 2,
       "version_minor": 0
      },
      "text/plain": [
       "Text(value='default')"
      ]
     },
     "metadata": {},
     "output_type": "display_data"
    }
   ],
   "source": [
    "title_textbox = widgets.Text(value='default',descriptiion='title:')\n",
    "title_textbox"
   ]
  },
  {
   "cell_type": "code",
   "execution_count": 30,
   "id": "341b8122",
   "metadata": {},
   "outputs": [
    {
     "data": {
      "application/vnd.jupyter.widget-view+json": {
       "model_id": "93be95b884974ba99d7083bd9d2e56be",
       "version_major": 2,
       "version_minor": 0
      },
      "text/plain": [
       "ColorPicker(value='#C0FFEE', concise=True, description='Main Color:')"
      ]
     },
     "metadata": {},
     "output_type": "display_data"
    }
   ],
   "source": [
    "color_picker = widgets.ColorPicker(concise=True, description='Main Color:', value='#C0FFEE')\n",
    "color_picker"
   ]
  },
  {
   "cell_type": "code",
   "execution_count": 32,
   "id": "a98f5695",
   "metadata": {},
   "outputs": [
    {
     "data": {
      "application/vnd.jupyter.widget-view+json": {
       "model_id": "93be95b884974ba99d7083bd9d2e56be",
       "version_major": 2,
       "version_minor": 0
      },
      "text/plain": [
       "ColorPicker(value='#C0FFEE', concise=True, description='Main Color:')"
      ]
     },
     "metadata": {},
     "output_type": "display_data"
    }
   ],
   "source": []
  }
 ],
 "metadata": {
  "kernelspec": {
   "display_name": "Python 3 (ipykernel)",
   "language": "python",
   "name": "python3"
  },
  "language_info": {
   "codemirror_mode": {
    "name": "ipython",
    "version": 3
   },
   "file_extension": ".py",
   "mimetype": "text/x-python",
   "name": "python",
   "nbconvert_exporter": "python",
   "pygments_lexer": "ipython3",
   "version": "3.9.5"
  }
 },
 "nbformat": 4,
 "nbformat_minor": 5
}
